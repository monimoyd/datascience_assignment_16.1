{
 "cells": [
  {
   "cell_type": "markdown",
   "metadata": {},
   "source": [
    "## You survey households in your area to find the average rent they are paying. Find the standard deviation from the following data: \n",
    "$1550, $1700, $900, $850, $1000, $950.\n",
    "\n",
    "## Solution:\n",
    "* Write a function std_dev which takes list/tuple which returns standard deviation with Bessel's correction\n",
    "* The function std_dev first cacluates mean\n",
    "* From each element subtract mean and square it and sum the whole resultant elements, which is divided by (No of elements - 1) and take the square mean to calculate standard deviation with Bessel's correction"
   ]
  },
  {
   "cell_type": "code",
   "execution_count": 3,
   "metadata": {},
   "outputs": [],
   "source": [
    "import functools\n",
    "import math\n",
    "def std_dev(element_list):\n",
    "    # Input element_list must be either tuple or list else ValueError is raised\n",
    "    if ( not isinstance(element_list, tuple)) and ( not isinstance(element_list, list)):\n",
    "        raise ValueError(\"element_list must be either list or tuple\")  \n",
    "        \n",
    "     # Input element_list should not be None or empty else ValueError is raised\n",
    "    if element_list is None or len(element_list) == 0:\n",
    "        raise ValueError(\"element_list can not be empty\")\n",
    "        \n",
    "    # If number of elements is 1 return 0     \n",
    "    if len(element_list) == 1:\n",
    "        return 0\n",
    "    \n",
    "    # Caculate mean by using reduce function with lambda expresssion as sum of two numbers\n",
    "    # divide by number of elements\n",
    "    mean = functools.reduce(lambda x,y: x+y, element_list)/len(element_list)\n",
    "    \n",
    "    # From each element subtract mean and square it and sum the whole resultant elements, which is divided by (No of elements - 1)\n",
    "    # and take the square mean to calculate standard deviation with Bessel's correction \n",
    "    result = math.sqrt(sum([(x - mean) ** 2 for x in element_list]) / (len(element_list) - 1))\n",
    "    return result"
   ]
  },
  {
   "cell_type": "code",
   "execution_count": 4,
   "metadata": {},
   "outputs": [
    {
     "name": "stdout",
     "output_type": "stream",
     "text": [
      "standard deviation = $367.99003609699366\n"
     ]
    }
   ],
   "source": [
    "element_list  = [1550, 1700, 900, 850, 1000, 950 ]\n",
    "res = std_dev(element_list)\n",
    "print(\"standard deviation = $\" + str(res))"
   ]
  },
  {
   "cell_type": "code",
   "execution_count": null,
   "metadata": {},
   "outputs": [],
   "source": []
  }
 ],
 "metadata": {
  "kernelspec": {
   "display_name": "Python 3",
   "language": "python",
   "name": "python3"
  },
  "language_info": {
   "codemirror_mode": {
    "name": "ipython",
    "version": 3
   },
   "file_extension": ".py",
   "mimetype": "text/x-python",
   "name": "python",
   "nbconvert_exporter": "python",
   "pygments_lexer": "ipython3",
   "version": "3.6.4"
  }
 },
 "nbformat": 4,
 "nbformat_minor": 2
}
